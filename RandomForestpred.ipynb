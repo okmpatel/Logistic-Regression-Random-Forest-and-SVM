{
 "cells": [
  {
   "cell_type": "code",
   "execution_count": 37,
   "id": "d372f349",
   "metadata": {},
   "outputs": [],
   "source": [
    "import pandas\n",
    "from sklearn.impute import KNNImputer\n",
    "from sklearn.preprocessing import RobustScaler\n",
    "from sklearn.pipeline import Pipeline\n",
    "from sklearn.model_selection import train_test_split\n",
    "from sklearn.ensemble import RandomForestClassifier\n",
    "from sklearn.metrics import classification_report, confusion_matrix\n",
    "from sklearn.metrics import log_loss"
   ]
  },
  {
   "cell_type": "code",
   "execution_count": 38,
   "id": "0e1f1c95",
   "metadata": {},
   "outputs": [],
   "source": [
    "trainData = pandas.read_csv(\"P2_data_stroke_train.csv\")\n",
    "testData = pandas.read_csv(\"P2_data_stroke_test.csv\")\n",
    "\n",
    "# Participant ID,Sex,Age,Race,Income,Edu,Systolic,Diastolic,Pulse,BMI,HDL,Trig,LDL,TCHOL,eGFR,A1C,uACR,CurrentSmoker,Diabetes,Insurance,stroke\n",
    "trainData = trainData.drop(columns = [\"Participant ID\",\"Race\",\"Income\",\"Edu\",\"Insurance\", \"LDL\", \"Trig\"])\n",
    "trainData = trainData.dropna(subset=[\"stroke\"])\n",
    "\n",
    "imputer = KNNImputer(n_neighbors=15)\n",
    "trainData = pandas.DataFrame(imputer.fit_transform(trainData), columns=trainData.columns)\n",
    "\n",
    "haveStroke = trainData[trainData[\"stroke\"] == 1]\n",
    "noStroke = trainData[trainData[\"stroke\"] == 2]\n",
    "noStroke = noStroke.sample(n=len(haveStroke))\n",
    "trainData = pandas.concat([haveStroke, noStroke])\n",
    "trainData = trainData.sample(frac=1,)\n",
    "trainData = trainData.reset_index(drop=True)\n",
    "\n",
    "\n",
    "x = trainData[[\"Age\",\"Systolic\",\"Diastolic\",\"Pulse\",\"BMI\",\"HDL\",\"TCHOL\",\n",
    "               \"eGFR\",\"A1C\",\"uACR\",\"CurrentSmoker\",\"Diabetes\",]]\n",
    "y = trainData[\"stroke\"]"
   ]
  },
  {
   "cell_type": "code",
   "execution_count": 103,
   "id": "6569ada3",
   "metadata": {},
   "outputs": [
    {
     "name": "stdout",
     "output_type": "stream",
     "text": [
      "74.65437788018433\n"
     ]
    }
   ],
   "source": [
    "x_train, x_test, y_train, y_test = train_test_split(x, y, test_size= 0.2, train_size=0.8, random_state=2025)\n",
    "randForestModel = Pipeline([('scaler', RobustScaler()), ('RanomForest', RandomForestClassifier(n_estimators=100, max_depth=7,min_samples_leaf=1, criterion='entropy', random_state=0))])\n",
    "randForestModel.fit(x_train, y_train)\n",
    "\n",
    "y_pred = randForestModel.predict(x_test)\n",
    "\n",
    "print((randForestModel.score(x_test, y_test)) * 100)\n",
    "# print(confusion_matrix(y_test, y_pred))\n",
    "# print(randForestModel.predict_proba(x_test))"
   ]
  },
  {
   "cell_type": "code",
   "execution_count": 40,
   "id": "b69ee4ab",
   "metadata": {},
   "outputs": [],
   "source": [
    "testData = testData.drop(columns = [\"Participant ID\", \"Sex\",\"Race\",\"Income\",\"Edu\",\"Insurance\", \"LDL\", \"Trig\"])\n",
    "testData = pandas.DataFrame(imputer.fit_transform(testData), columns=testData.columns)\n",
    "\n",
    "finaltest = testData[[\"Age\",\"Systolic\",\"Diastolic\",\"Pulse\",\"BMI\",\"HDL\",\"TCHOL\",\n",
    "                      \"eGFR\",\"A1C\",\"uACR\",\"CurrentSmoker\",\"Diabetes\"]]\n",
    "y_predprob =randForestModel.predict_proba(finaltest)[:,0]\n",
    "# print(y_predprob)"
   ]
  },
  {
   "cell_type": "code",
   "execution_count": null,
   "id": "7c8bf887",
   "metadata": {},
   "outputs": [],
   "source": [
    "# Add pred prob to csv\n",
    "finalFile = pandas.read_csv(\"predictedProbabilitiesForStroke.csv\")\n",
    "finalFile['RandomForestPrediction'] = y_predprob\n",
    "finalFile.to_csv(\"predictedProbabilitiesForStroke.csv\", index=False)"
   ]
  }
 ],
 "metadata": {
  "kernelspec": {
   "display_name": ".venv",
   "language": "python",
   "name": "python3"
  },
  "language_info": {
   "codemirror_mode": {
    "name": "ipython",
    "version": 3
   },
   "file_extension": ".py",
   "mimetype": "text/x-python",
   "name": "python",
   "nbconvert_exporter": "python",
   "pygments_lexer": "ipython3",
   "version": "3.12.3"
  }
 },
 "nbformat": 4,
 "nbformat_minor": 5
}
