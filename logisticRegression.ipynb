{
 "cells": [
  {
   "cell_type": "code",
   "execution_count": 11,
   "id": "22671cb1",
   "metadata": {},
   "outputs": [],
   "source": [
    "import pandas\n",
    "from sklearn.impute import KNNImputer\n",
    "from sklearn.preprocessing import RobustScaler\n",
    "from sklearn.pipeline import Pipeline\n",
    "from sklearn.model_selection import train_test_split\n",
    "from sklearn.linear_model import LogisticRegression\n",
    "from sklearn.metrics import classification_report, confusion_matrix\n",
    "from sklearn.metrics import log_loss"
   ]
  },
  {
   "cell_type": "code",
   "execution_count": 12,
   "id": "e173b46e",
   "metadata": {},
   "outputs": [],
   "source": [
    "trainData = pandas.read_csv(\"P2_data_stroke_train.csv\")\n",
    "testData = pandas.read_csv(\"P2_data_stroke_test.csv\")\n",
    "\n",
    "# Participant ID,Sex,Age,Race,Income,Edu,Systolic,Diastolic,Pulse,BMI,HDL,Trig,LDL,TCHOL,eGFR,A1C,uACR,CurrentSmoker,Diabetes,Insurance,stroke\n",
    "trainData = trainData.drop(columns = [\"Participant ID\", \"Sex\",\"Race\",\"Income\",\"Edu\",\"Insurance\", \"LDL\", \"Trig\"])\n",
    "trainData = trainData.dropna(subset=[\"stroke\"])\n",
    "\n",
    "\n",
    "imputer = KNNImputer(n_neighbors=15)\n",
    "trainData = pandas.DataFrame(imputer.fit_transform(trainData), columns=trainData.columns)\n",
    "\n",
    "haveStroke = trainData[trainData[\"stroke\"] == 1]\n",
    "noStroke = trainData[trainData[\"stroke\"] == 2]\n",
    "noStroke = noStroke.sample(n=len(haveStroke))\n",
    "trainData = pandas.concat([haveStroke, noStroke])\n",
    "trainData = trainData.sample(frac=1,)\n",
    "trainData = trainData.reset_index(drop=True)\n",
    "\n",
    "\n",
    "x = trainData[[\"Age\",\"Systolic\",\"Diastolic\",\"Pulse\",\"BMI\",\"HDL\",\"TCHOL\",\"eGFR\",\"A1C\",\"uACR\",\"CurrentSmoker\",\"Diabetes\"]]\n",
    "y = trainData[\"stroke\"]\n"
   ]
  },
  {
   "cell_type": "code",
   "execution_count": 13,
   "id": "abd25c8b",
   "metadata": {},
   "outputs": [
    {
     "name": "stdout",
     "output_type": "stream",
     "text": [
      "78.80184331797236\n",
      "[[78 21]\n",
      " [25 93]]\n"
     ]
    }
   ],
   "source": [
    "x_train, x_test, y_train, y_test = train_test_split(x, y, test_size= 0.2, train_size=0.8, random_state=2025)\n",
    "logR_model = Pipeline([('scaler', RobustScaler()), ('model', LogisticRegression(C = 1))])\n",
    "logR_model.fit(x_train, y_train)\n",
    "\n",
    "y_pred = logR_model.predict(x_test)\n",
    "\n",
    "print((logR_model.score(x_test, y_test)) * 100)\n",
    "print(confusion_matrix(y_test, y_pred))\n",
    "\n"
   ]
  },
  {
   "cell_type": "code",
   "execution_count": 40,
   "id": "39bba600",
   "metadata": {},
   "outputs": [],
   "source": [
    "testData = pandas.read_csv(\"P2_data_stroke_test.csv\")\n",
    "participantId = testData[\"Participant ID\"]\n",
    "\n",
    "testData = testData.drop(columns = [\"Participant ID\", \"Sex\",\"Race\",\"Income\",\"Edu\",\"Insurance\", \"LDL\", \"Trig\"])\n",
    "\n",
    "testData = pandas.DataFrame(imputer.fit_transform(testData), columns=testData.columns)\n",
    "finaltest = testData[[\"Age\",\"Systolic\",\"Diastolic\",\"Pulse\",\"BMI\",\"HDL\",\"TCHOL\",\"eGFR\",\"A1C\",\"uACR\",\"CurrentSmoker\",\"Diabetes\"]]\n",
    "y_predprob =logR_model.predict_proba(finaltest)[:,0]\n",
    "# print(y_predprob)\n",
    "\n",
    "finalcsv = pandas.DataFrame({\"Participant ID\": participantId, \"LogisticRegressionPrediction\": y_predprob})\n",
    "\n",
    "finalcsv.to_csv(\"predictedProbabilitiesForStroke\", index=False)"
   ]
  }
 ],
 "metadata": {
  "kernelspec": {
   "display_name": ".venv",
   "language": "python",
   "name": "python3"
  },
  "language_info": {
   "codemirror_mode": {
    "name": "ipython",
    "version": 3
   },
   "file_extension": ".py",
   "mimetype": "text/x-python",
   "name": "python",
   "nbconvert_exporter": "python",
   "pygments_lexer": "ipython3",
   "version": "3.12.3"
  }
 },
 "nbformat": 4,
 "nbformat_minor": 5
}
