{
 "cells": [
  {
   "cell_type": "code",
   "execution_count": 1,
   "id": "10eb7d06",
   "metadata": {},
   "outputs": [],
   "source": [
    "# A random forest is a meta estimator that fits a number of decision tree classifiers on \n",
    "# various sub-samples of the dataset and uses averaging to improve the predictive accuracy \n",
    "# and control over-fitting. The sub-sample size is controlled with the max_samples parameter \n",
    "# if bootstrap=True (default), otherwise the whole dataset is used to build each tree.\n",
    "\n",
    "# https://scikit-learn.org/stable/modules/generated/sklearn.ensemble.RandomForestClassifier.html\n",
    "\n",
    "# class sklearn.ensemble.RandomForestClassifier(n_estimators=100, *, criterion='gini', \n",
    "# max_depth=None, min_samples_split=2, min_samples_leaf=1, min_weight_fraction_leaf=0.0, \n",
    "# max_features='sqrt', max_leaf_nodes=None, min_impurity_decrease=0.0, bootstrap=True, \n",
    "# oob_score=False, n_jobs=None, random_state=None, verbose=0, warm_start=False, \n",
    "# class_weight=None, ccp_alpha=0.0, max_samples=None)[source]\n",
    "import pandas as pd\n",
    "import numpy as np\n",
    "np.set_printoptions(formatter={'float': lambda x: \"{0:0.3f}\".format(x)})"
   ]
  },
  {
   "cell_type": "code",
   "execution_count": 7,
   "id": "fd21db51",
   "metadata": {},
   "outputs": [
    {
     "name": "stdout",
     "output_type": "stream",
     "text": [
      "accuracy for test ......  100.0\n",
      "accuracy for test ......  93.33333333333333\n",
      "accuracy for test ......  93.33333333333333\n",
      "accuracy for test ......  100.0\n",
      "accuracy for test ......  100.0\n",
      "accuracy for test ......  93.33333333333333\n",
      "accuracy for test ......  100.0\n",
      "accuracy for test ......  93.33333333333333\n",
      "accuracy for test ......  93.33333333333333\n",
      "accuracy for test ......  86.66666666666667\n",
      "* Average accuracy *:  95.33333333333333\n",
      "\n",
      "        Feature  Importance\n",
      "3  color_score    0.395460\n",
      "2       height    0.266311\n",
      "1        width    0.169205\n",
      "0         mass    0.169023\n"
     ]
    }
   ],
   "source": [
    "from sklearn.ensemble import RandomForestClassifier\n",
    "from sklearn.datasets import make_classification\n",
    "from sklearn.model_selection import train_test_split\n",
    "\n",
    "fruit_df = pd.read_csv(\"fruit_data_with_colors.csv\")\n",
    "\n",
    "X = fruit_df[['mass', 'width', 'height', 'color_score']]\n",
    "y = fruit_df[\"fruit_label\"]\n",
    "\n",
    "avgAccuracy = []\n",
    "for i in range(10):\n",
    "    X_train, X_test, y_train, y_test = \\\n",
    "        train_test_split(X, y, stratify=y) \n",
    "    # n_estimators = 100 <--- # of trees\n",
    "    clf = RandomForestClassifier(n_estimators=100, max_depth=2, criterion='gini', random_state=0)\n",
    "    clf.fit(X_train, y_train)\n",
    "\n",
    "    #print(\"accuracy for train:\", clf.score(X_train, y_train)*100)\n",
    "    acc = clf.score(X_test, y_test)*100\n",
    "    avgAccuracy = avgAccuracy+[acc]\n",
    "    print(\"accuracy for test ...... \", acc)\n",
    "\n",
    "print(\"* Average accuracy *: \", sum(avgAccuracy)/len(avgAccuracy))\n",
    "\n",
    "# ranked based on the average impurity decrease across all the decision trees in the forest\n",
    "feature_importances = clf.feature_importances_\n",
    "\n",
    "# Create a DataFrame to display the feature importances\n",
    "feature_importance_df = pd.DataFrame({'Feature': fruit_featureNames, 'Importance': feature_importances})\n",
    "feature_importance_df = feature_importance_df.sort_values(by='Importance', ascending=False)\n",
    "print(\"\\n\", feature_importance_df)"
   ]
  },
  {
   "cell_type": "code",
   "execution_count": null,
   "id": "6a7cd3b2",
   "metadata": {},
   "outputs": [],
   "source": []
  }
 ],
 "metadata": {
  "kernelspec": {
   "display_name": "Python 3 (ipykernel)",
   "language": "python",
   "name": "python3"
  },
  "language_info": {
   "codemirror_mode": {
    "name": "ipython",
    "version": 3
   },
   "file_extension": ".py",
   "mimetype": "text/x-python",
   "name": "python",
   "nbconvert_exporter": "python",
   "pygments_lexer": "ipython3",
   "version": "3.12.3"
  }
 },
 "nbformat": 4,
 "nbformat_minor": 5
}
