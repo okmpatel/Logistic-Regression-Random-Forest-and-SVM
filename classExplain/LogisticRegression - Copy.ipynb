{
 "cells": [
  {
   "cell_type": "code",
   "execution_count": 9,
   "id": "b32fb5ca",
   "metadata": {},
   "outputs": [],
   "source": [
    "# sklearn.linear_model.LogisticRegression\n",
    "# class sklearn.linear_model.LogisticRegression(penalty='l2', *, \n",
    "# dual=False, tol=0.0001, C=1.0, fit_intercept=True, intercept_scaling=1, \n",
    "# class_weight=None, random_state=None, solver='lbfgs', max_iter=100, \n",
    "# multi_class='auto', verbose=0, warm_start=False, n_jobs=None, \n",
    "# l1_ratio=None)[source]\n",
    "import numpy as np\n",
    "import pandas as pd\n",
    "np.set_printoptions(formatter={'float': lambda x: \"{0:0.3f}\".format(x)})"
   ]
  },
  {
   "cell_type": "code",
   "execution_count": 56,
   "id": "02cbb2bc",
   "metadata": {},
   "outputs": [
    {
     "name": "stdout",
     "output_type": "stream",
     "text": [
      "Train set score: 0.86\n",
      "Test set score: 0.83\n",
      "confusion matrix:\n",
      " [[3 0]\n",
      " [1 2]]\n",
      "lr.coef_: [[0.837 1.030]]\n",
      "lr.intercept_: [-3.566]\n"
     ]
    }
   ],
   "source": [
    "from sklearn.model_selection import train_test_split\n",
    "from sklearn.linear_model import LogisticRegression\n",
    "from sklearn.metrics import confusion_matrix\n",
    "\n",
    "# dataset: Probability of passing an exam versus where and hours of study\n",
    "# if the problem is binary: 1 and 0 (pass and fail)\n",
    "\n",
    "d = {'location': [0, 0, 0, 0, 0, 1, 0, 0, 1, 0, 1, 0, 1, 1, 1, 1, 1, 1, 1, 0],\n",
    "     'hours': [0.5, 0.75, 1, 1.25, 1.5, 1.75, 1.75, 2, 2.25, 2.5, 2.75, 3, 3.25, 3.5, 4, 4.25, 4.5, 4.75, 5, 5.5],\n",
    "     'pass': [0, 0, 0, 0, 0, 0, 1, 0, 1, 0, 1, 0, 1, 0, 1, 1, 1, 1, 1, 1]}\n",
    "HrsStudying = pd.DataFrame(data=d)\n",
    "\n",
    "X = HrsStudying[[\"location\", \"hours\"]] \n",
    "y = HrsStudying[\"pass\"]\n",
    "\n",
    "X_train, X_test, y_train, y_test = train_test_split(X, y, test_size=0.30, random_state=10)\n",
    "\n",
    "lr = LogisticRegression(random_state=0, C=1)\n",
    "lr.fit(X_train, y_train)\n",
    "\n",
    "# Estimate the accuracy of the classifier on future data, using the test data\n",
    "print(\"Train set score: {:.2f}\".format(lr.score(X_train, y_train)))\n",
    "print(\"Test set score: {:.2f}\".format(lr.score(X_test, y_test)))\n",
    "\n",
    "y_predicted = lr.predict(X_test)\n",
    "print(\"confusion matrix:\\n\", confusion_matrix(y_test, y_predicted))\n",
    "\n",
    "# Coefficients of the linear model (b_1,b_2,...,b_p): log(p/(1-p)) = b0+b_1x_1+b_2x_2+...+b_px_p\n",
    "#\n",
    "print(\"lr.coef_: {}\".format(lr.coef_))\n",
    "print(\"lr.intercept_: {}\".format(lr.intercept_))"
   ]
  },
  {
   "cell_type": "code",
   "execution_count": 58,
   "id": "5cea3653-007a-4cfe-8514-2418f86c2318",
   "metadata": {},
   "outputs": [
    {
     "name": "stdout",
     "output_type": "stream",
     "text": [
      "accuracy: 0.6666666666666666\n",
      "confusion matrix:\n",
      " [[2 1]\n",
      " [1 2]]\n"
     ]
    }
   ],
   "source": [
    "# recall kNN\n",
    "from sklearn.model_selection import train_test_split\n",
    "from sklearn.neighbors import KNeighborsClassifier\n",
    "from sklearn.metrics import confusion_matrix\n",
    "\n",
    "d = {'location': [0, 0, 0, 0, 0, 1, 0, 0, 1, 0, 1, 0, 1, 1, 1, 1, 1, 1, 1, 0],\n",
    "     'hours': [0.5, 0.75, 1, 1.25, 1.5, 1.75, 1.75, 2, 2.25, 2.5, 2.75, 3, 3.25, 3.5, 4, 4.25, 4.5, 4.75, 5, 5.5],\n",
    "     'pass': [0, 0, 0, 0, 0, 0, 1, 0, 1, 0, 1, 0, 1, 0, 1, 1, 1, 1, 1, 1]}\n",
    "\n",
    "HrsStudying = pd.DataFrame(data=d)\n",
    "\n",
    "X = HrsStudying[[\"location\", \"hours\"]] \n",
    "y = HrsStudying[\"pass\"]\n",
    "\n",
    "X_train, X_test, y_train, y_test = train_test_split(X, y, test_size=0.30, random_state=10)\n",
    "clf = KNeighborsClassifier(n_neighbors=3)\n",
    "clf.fit(X, y)\n",
    "\n",
    "print(\"accuracy:\", clf.score(X_test, y_test)) \n",
    "y_predicted = clf.predict(X_test)\n",
    "print(\"confusion matrix:\\n\", confusion_matrix(y_test, y_predicted))\n"
   ]
  },
  {
   "cell_type": "code",
   "execution_count": 86,
   "id": "d5f37afe",
   "metadata": {},
   "outputs": [
    {
     "name": "stdout",
     "output_type": "stream",
     "text": [
      "['apple' 'mandarin' 'orange' 'lemon']\n",
      "   fruit_label fruit_name fruit_subtype  mass  width  height  color_score\n",
      "0            1      apple  granny_smith   192    8.4     7.3         0.55\n",
      "1            1      apple  granny_smith   180    8.0     6.8         0.59\n",
      "2            1      apple  granny_smith   176    7.4     7.2         0.60\n",
      "\n",
      "Train set score: 0.84\n",
      "accuracy for test: 0.8\n",
      "confusion matrix:\n",
      " [[3 0 2 0]\n",
      " [0 1 0 0]\n",
      " [1 0 4 0]\n",
      " [0 0 0 4]]\n",
      "\n",
      "logit.intercept_: [-10.139 46.045 -12.999 -22.907]\n",
      "logit.coef_: \n",
      "[[0.153 2.678 -3.491 1.177]\n",
      " [-0.424 0.003 -0.037 0.002]\n",
      " [0.174 -0.218 -0.501 -0.968]\n",
      " [0.096 -2.463 4.029 -0.211]]\n"
     ]
    }
   ],
   "source": [
    "# multiclass the problem is different. if n classes, LogisticRegression will build n classifiers, i.e. n generalized\n",
    "# linear models. (b_1,b_2,...,b_p): log(p/(1-p)) = b0+b_1x_1+b_2x_2+...+b_px_p\n",
    "\n",
    "from sklearn.model_selection import train_test_split\n",
    "from sklearn.linear_model import LogisticRegression\n",
    "\n",
    "fruit_df = pd.read_csv(\"fruit_data_with_colors.csv\")\n",
    "\n",
    "print(fruit_df.fruit_name.unique())\n",
    "print(fruit_df.head(3))\n",
    "\n",
    "X = fruit_df[['mass', 'width', 'height', 'color_score']]\n",
    "y = fruit_df['fruit_label']\n",
    "\n",
    "X_train, X_test, y_train, y_test = \\\n",
    "    train_test_split(X, y, stratify=y, random_state=12)  # default .75/.25; try: random_state=1\n",
    "\n",
    "clf = LogisticRegression(random_state=10, max_iter=10000, C=10)\n",
    "clf.fit(X_train, y_train)\n",
    "\n",
    "print(\"\\nTrain set score: {:.2f}\".format(clf.score(X_train, y_train)))\n",
    "print(\"accuracy for test:\", clf.score(X_test, y_test))\n",
    "from sklearn.metrics import confusion_matrix\n",
    "y_predicted = clf.predict(X_test)\n",
    "print(\"confusion matrix:\\n\", confusion_matrix(y_test, y_predicted))\n",
    "print()\n",
    "\n",
    "#--------- regression coefficients -----------------\n",
    "# there are 4 classes in the problem. So we see 4 sets of coefficients. For example: for class 0, \n",
    "# Assume p be the probability a apple is in class 0. \n",
    "print(\"logit.intercept_: {}\".format(clf.intercept_))\n",
    "print(\"logit.coef_: \\n{}\".format(clf.coef_))"
   ]
  },
  {
   "cell_type": "code",
   "execution_count": 109,
   "id": "c0749cb0",
   "metadata": {},
   "outputs": [
    {
     "name": "stdout",
     "output_type": "stream",
     "text": [
      "['apple' 'mandarin' 'orange' 'lemon']\n",
      "   fruit_label fruit_name fruit_subtype  mass  width  height  color_score\n",
      "0            1      apple  granny_smith   192    8.4     7.3         0.55\n",
      "1            1      apple  granny_smith   180    8.0     6.8         0.59\n",
      "2            1      apple  granny_smith   176    7.4     7.2         0.60\n",
      "\n",
      "Train set score: 0.48\n",
      "accuracy for test: 0.6\n",
      "confusion matrix:\n",
      " [[3 0 2 0]\n",
      " [1 0 0 0]\n",
      " [3 0 2 0]\n",
      " [0 0 0 4]]\n",
      "\n",
      "logit.intercept_: [0.358 -0.920 0.359 0.203]\n",
      "logit.coef_: \n",
      "[[0.006 0.065 -0.031 0.027]\n",
      " [-0.052 -0.054 -0.091 0.015]\n",
      " [0.062 0.064 0.019 0.018]\n",
      " [-0.016 -0.075 0.103 -0.061]]\n"
     ]
    }
   ],
   "source": [
    "from sklearn.preprocessing import StandardScaler\n",
    "\n",
    "fruit_df = pd.read_csv(\"fruit_data_with_colors.csv\")\n",
    "\n",
    "print(fruit_df.fruit_name.unique())\n",
    "print(fruit_df.head(3))\n",
    "\n",
    "X = fruit_df[['mass', 'width', 'height', 'color_score']]\n",
    "y = fruit_df['fruit_label']\n",
    "\n",
    "sc = StandardScaler()\n",
    "X = sc.fit_transform(X)\n",
    "\n",
    "X_train_s, X_test_s, y_train, y_test = \\\n",
    "    train_test_split(X, y, stratify=y, random_state=12)  # default .75/.25; try: random_state=1\n",
    "\n",
    "clf = LogisticRegression(random_state=10, max_iter=10000, C=10)\n",
    "clf.fit(X_train, y_train)\n",
    "\n",
    "print(\"\\nTrain set score: {:.2f}\".format(clf.score(X_train, y_train)))\n",
    "print(\"accuracy for test:\", clf.score(X_test, y_test))\n",
    "from sklearn.metrics import confusion_matrix\n",
    "y_predicted = clf.predict(X_test)\n",
    "print(\"confusion matrix:\\n\", confusion_matrix(y_test, y_predicted))\n",
    "print()\n",
    "\n",
    "#--------- regression coefficients -----------------\n",
    "# there are 4 classes in the problem. So we see 4 sets of coefficients. For example: for class 0, \n",
    "# Assume p be the probability a apple is in class 0. \n",
    "print(\"logit.intercept_: {}\".format(clf.intercept_))\n",
    "print(\"logit.coef_: \\n{}\".format(clf.coef_))"
   ]
  },
  {
   "cell_type": "code",
   "execution_count": null,
   "id": "990b0b12-df6d-47b6-afad-47d61f5fae28",
   "metadata": {},
   "outputs": [],
   "source": []
  },
  {
   "cell_type": "code",
   "execution_count": null,
   "id": "0e9d4c97-b865-4a8d-81ba-af2253b0a88f",
   "metadata": {},
   "outputs": [],
   "source": []
  }
 ],
 "metadata": {
  "kernelspec": {
   "display_name": "Python 3 (ipykernel)",
   "language": "python",
   "name": "python3"
  },
  "language_info": {
   "codemirror_mode": {
    "name": "ipython",
    "version": 3
   },
   "file_extension": ".py",
   "mimetype": "text/x-python",
   "name": "python",
   "nbconvert_exporter": "python",
   "pygments_lexer": "ipython3",
   "version": "3.12.3"
  }
 },
 "nbformat": 4,
 "nbformat_minor": 5
}
